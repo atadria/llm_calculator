{
 "cells": [
  {
   "cell_type": "code",
   "execution_count": null,
   "id": "7393f9ab-aa65-4d30-ac0a-65cda05292e1",
   "metadata": {
    "scrolled": true
   },
   "outputs": [],
   "source": [
    "import torch\n",
    "from transformers import AutoTokenizer, AutoModelForCausalLM, BitsAndBytesConfig\n",
    "from peft import prepare_model_for_kbit_training, LoraConfig, get_peft_model, PeftModel\n",
    "from datasets import load_from_disk, concatenate_datasets\n",
    "from trl import SFTTrainer, DataCollatorForCompletionOnlyLM\n",
    "from transformers import TrainingArguments"
   ]
  },
  {
   "cell_type": "code",
   "execution_count": null,
   "id": "aa9e14d4-c1a0-42d1-90f8-79f5ca404774",
   "metadata": {},
   "outputs": [],
   "source": [
    "TOKEN = 'hf_'"
   ]
  },
  {
   "cell_type": "code",
   "execution_count": null,
   "id": "85e86393-3069-4cb5-8696-de7e8e7d6e0c",
   "metadata": {},
   "outputs": [],
   "source": [
    "# Load model\n",
    "\n",
    "base_model_id = \"mistralai/Mistral-7B-Instruct-v0.2\"\n",
    "bnb_config = BitsAndBytesConfig(\n",
    "    load_in_4bit=True,\n",
    "    bnb_4bit_use_double_quant=True,\n",
    "    bnb_4bit_quant_type=\"nf4\",\n",
    "    bnb_4bit_compute_dtype=torch.bfloat16\n",
    ")\n",
    "\n",
    "model = AutoModelForCausalLM.from_pretrained(base_model_id,\n",
    "                                             quantization_config=bnb_config)\n",
    "\n",
    "model.gradient_checkpointing_enable()\n",
    "model = prepare_model_for_kbit_training(model)\n",
    "\n",
    "tokenizer = AutoTokenizer.from_pretrained(\n",
    "    base_model_id,\n",
    "    model_max_length=4096,\n",
    "    padding_side=\"left\",\n",
    "    add_eos_token=True)\n",
    "\n",
    "# tokenizer.pad_token = tokenizer.eos_token\n",
    "tokenizer.pad_token = tokenizer.unk_token\n",
    "model.config.pad_token_id = tokenizer.pad_token_id\n"
   ]
  },
  {
   "cell_type": "code",
   "execution_count": 2,
   "id": "e34f5597-15d7-41b4-a06d-ca9edd3cbc84",
   "metadata": {},
   "outputs": [],
   "source": [
    "# Data preparation\n",
    "from datasets import Dataset\n",
    "\n",
    "def multiply(a, b):\n",
    "    return a * b\n",
    "\n",
    "def generate_dataset(start, end, function):\n",
    "     return [(i, j, function(i, j)) for i in range(start, end + 1) for j in range(start, end + 1)]\n",
    "\n",
    "PROMPT = \"[INST] Return only result witn no explanation: {inst} [/INST] = {ans}\"\n",
    "\n",
    "train_dataset = generate_dataset(60, 100, multiply)\n",
    "train_dataset = {\n",
    "    \"text\": [\n",
    "        PROMPT.format(inst=f'{a} * {b}', ans=c) for a, b, c in train_dataset\n",
    "    ],\n",
    "}\n",
    "dataset = Dataset.from_dict(train_dataset)\n",
    "\n",
    "\n",
    "dataset = dataset.shuffle()"
   ]
  },
  {
   "cell_type": "code",
   "execution_count": 3,
   "id": "c1797fea-20ee-4d8f-94df-cd69a802955a",
   "metadata": {},
   "outputs": [
    {
     "name": "stdout",
     "output_type": "stream",
     "text": [
      "trainable params: 340164608 || all params: 4092235776 || trainable%: 8.312439131561906\n"
     ]
    }
   ],
   "source": [
    "# Prepare for training\n",
    "def print_trainable_parameters(model):\n",
    "    \"\"\"\n",
    "    Prints the number of trainable parameters in the model.\n",
    "    \"\"\"\n",
    "    trainable_params = 0\n",
    "    all_param = 0\n",
    "    for _, param in model.named_parameters():\n",
    "        all_param += param.numel()\n",
    "        if param.requires_grad:\n",
    "            trainable_params += param.numel()\n",
    "    print(\n",
    "        f\"trainable params: {trainable_params} || all params: {all_param} || trainable%: {100 * trainable_params / all_param}\"\n",
    "    )\n",
    "    \n",
    "config = LoraConfig(\n",
    "    r=128,\n",
    "    lora_alpha=64,\n",
    "    target_modules=[\n",
    "        \"q_proj\",\n",
    "        \"k_proj\",\n",
    "        \"v_proj\",\n",
    "        \"o_proj\",\n",
    "        \"gate_proj\",\n",
    "        \"up_proj\",\n",
    "        \"down_proj\",\n",
    "        \"lm_head\",\n",
    "    ],\n",
    "    bias=\"none\",\n",
    "    lora_dropout=0.05,  # Conventional\n",
    "    task_type=\"CAUSAL_LM\",\n",
    ")\n",
    "\n",
    "model = get_peft_model(model, config)\n",
    "print_trainable_parameters(model)\n",
    "\n",
    "if torch.cuda.device_count() > 1:  # If more than 1 GPU\n",
    "    model.is_parallelizable = True\n",
    "    model.model_parallel = True\n",
    "    print('### multiple GPU ###')"
   ]
  },
  {
   "cell_type": "code",
   "execution_count": 4,
   "id": "d2568038-c710-40f7-83df-f9dadab3e6a4",
   "metadata": {},
   "outputs": [
    {
     "data": {
      "application/vnd.jupyter.widget-view+json": {
       "model_id": "6d42ace0971d4f8a815e2db274d79a86",
       "version_major": 2,
       "version_minor": 0
      },
      "text/plain": [
       "Map (num_proc=2):   0%|          | 0/1681 [00:00<?, ? examples/s]"
      ]
     },
     "metadata": {},
     "output_type": "display_data"
    },
    {
     "name": "stderr",
     "output_type": "stream",
     "text": [
      "/workspace/.miniconda3/lib/python3.11/site-packages/trl/trainer/sft_trainer.py:294: UserWarning: You passed a tokenizer with `padding_side` not equal to `right` to the SFTTrainer. This might lead to some unexpected behaviour due to overflow issues when training a model in half-precision. You might consider adding `tokenizer.padding_side = 'right'` to your code.\n",
      "  warnings.warn(\n",
      "/workspace/.miniconda3/lib/python3.11/site-packages/accelerate/accelerator.py:432: FutureWarning: Passing the following arguments to `Accelerator` is deprecated and will be removed in version 1.0 of Accelerate: dict_keys(['dispatch_batches', 'split_batches', 'even_batches', 'use_seedable_sampler']). Please pass an `accelerate.DataLoaderConfiguration` instead: \n",
      "dataloader_config = DataLoaderConfiguration(dispatch_batches=None, split_batches=False, even_batches=True, use_seedable_sampler=True)\n",
      "  warnings.warn(\n",
      "/workspace/.miniconda3/lib/python3.11/site-packages/torch/utils/checkpoint.py:429: UserWarning: torch.utils.checkpoint: please pass in use_reentrant=True or use_reentrant=False explicitly. The default value of use_reentrant will be updated to be False in the future. To maintain current behavior, pass use_reentrant=True. It is recommended that you use use_reentrant=False. Refer to docs for more details on the differences between the two variants.\n",
      "  warnings.warn(\n"
     ]
    },
    {
     "data": {
      "text/html": [
       "\n",
       "    <div>\n",
       "      \n",
       "      <progress value='78' max='78' style='width:300px; height:20px; vertical-align: middle;'></progress>\n",
       "      [78/78 06:58, Epoch 2/3]\n",
       "    </div>\n",
       "    <table border=\"1\" class=\"dataframe\">\n",
       "  <thead>\n",
       " <tr style=\"text-align: left;\">\n",
       "      <th>Step</th>\n",
       "      <th>Training Loss</th>\n",
       "    </tr>\n",
       "  </thead>\n",
       "  <tbody>\n",
       "    <tr>\n",
       "      <td>10</td>\n",
       "      <td>0.807900</td>\n",
       "    </tr>\n",
       "    <tr>\n",
       "      <td>20</td>\n",
       "      <td>0.385200</td>\n",
       "    </tr>\n",
       "    <tr>\n",
       "      <td>30</td>\n",
       "      <td>0.319600</td>\n",
       "    </tr>\n",
       "    <tr>\n",
       "      <td>40</td>\n",
       "      <td>0.253500</td>\n",
       "    </tr>\n",
       "    <tr>\n",
       "      <td>50</td>\n",
       "      <td>0.239800</td>\n",
       "    </tr>\n",
       "    <tr>\n",
       "      <td>60</td>\n",
       "      <td>0.187900</td>\n",
       "    </tr>\n",
       "    <tr>\n",
       "      <td>70</td>\n",
       "      <td>0.182000</td>\n",
       "    </tr>\n",
       "  </tbody>\n",
       "</table><p>"
      ],
      "text/plain": [
       "<IPython.core.display.HTML object>"
      ]
     },
     "metadata": {},
     "output_type": "display_data"
    },
    {
     "data": {
      "text/plain": [
       "TrainOutput(global_step=78, training_loss=0.3207863783225035, metrics={'train_runtime': 426.8437, 'train_samples_per_second': 11.815, 'train_steps_per_second': 0.183, 'total_flos': 6970663756775424.0, 'train_loss': 0.3207863783225035, 'epoch': 2.96})"
      ]
     },
     "execution_count": 4,
     "metadata": {},
     "output_type": "execute_result"
    }
   ],
   "source": [
    "# Training\n",
    "output_dir = \"./calc_mistral\"\n",
    "tokenizer.pad_token = tokenizer.eos_token\n",
    "\n",
    "response_template = '[/INST] ='\n",
    "response_template_ids = tokenizer.encode(response_template, add_special_tokens=False)[2:]\n",
    "collator = DataCollatorForCompletionOnlyLM(response_template_ids, tokenizer=tokenizer)\n",
    "\n",
    "trainer = SFTTrainer(\n",
    "    model=model,\n",
    "    tokenizer=tokenizer,\n",
    "    train_dataset=dataset,\n",
    "    dataset_text_field=\"text\",\n",
    "    max_seq_length=32,\n",
    "    dataset_num_proc=2,\n",
    "    packing=False,\n",
    "    data_collator=collator,\n",
    "    args=TrainingArguments(\n",
    "        per_device_train_batch_size=8,\n",
    "        gradient_accumulation_steps=8,\n",
    "        gradient_checkpointing=True,\n",
    "        warmup_steps=5,\n",
    "        num_train_epochs=3,\n",
    "        #max_steps=20,\n",
    "        learning_rate=2e-5,\n",
    "        fp16=not torch.cuda.is_bf16_supported(),\n",
    "        bf16=torch.cuda.is_bf16_supported(),\n",
    "        logging_steps=10,\n",
    "        optim=\"adamw_8bit\",\n",
    "        weight_decay=0.01,\n",
    "        lr_scheduler_type=\"linear\",\n",
    "        seed=3407,\n",
    "        output_dir=\"outputs\",\n",
    "        report_to='none',  # or log to WanDB\n",
    "        logging_dir=\"./logs\",\n",
    "    ),\n",
    ")\n",
    "\n",
    "model.config.use_cache = False  # silence the warnings. Please re-enable for inference!\n",
    "trainer.train()"
   ]
  },
  {
   "cell_type": "code",
   "execution_count": null,
   "id": "1308bdec-0fb1-44f2-ba9b-99e835222c5a",
   "metadata": {},
   "outputs": [],
   "source": [
    "# 4-bit version \n",
    "# model = model.merge_and_unload()\n",
    "# model.push_to_hub(\"adriata/calc_mistral\", \n",
    "#                   use_temp_dir=False, \n",
    "#                   token=TOKEN)\n",
    "# tokenizer.push_to_hub(\"adriata/calc_mistral\", \n",
    "#                       use_temp_dir=False, \n",
    "#                       token=TOKEN)"
   ]
  },
  {
   "cell_type": "code",
   "execution_count": 5,
   "id": "9cf2a07e-ca26-4eef-9805-27e55e482b4d",
   "metadata": {},
   "outputs": [],
   "source": [
    "base_model_id = \"mistralai/Mistral-7B-Instruct-v0.2\"\n",
    "new_model = \"calc_mistral\"\n",
    "new_model_id = \"adriata/calc_mistral_v2\"\n",
    "\n",
    "model = AutoModelForCausalLM.from_pretrained(base_model_id)\n",
    "model_merge = PeftModel.from_pretrained(model, new_model)\n",
    "model_merge = model_merge.merge_and_unload()\n",
    "\n",
    "tokenizer = AutoTokenizer.from_pretrained(\n",
    "    base_model_id)"
   ]
  },
  {
   "cell_type": "code",
   "execution_count": null,
   "id": "c505833c-9223-4bd6-b434-5ac9fe32c900",
   "metadata": {},
   "outputs": [],
   "source": [
    "model_merge.push_to_hub(\"adriata/calc_mistral\", \n",
    "                  use_temp_dir=False, \n",
    "                  token=TOKEN)\n",
    "tokenizer.push_to_hub(\"adriata/calc_mistral_v2\", \n",
    "                      use_temp_dir=False, \n",
    "                      token=TOKEN)"
   ]
  }
 ],
 "metadata": {
  "kernelspec": {
   "display_name": "Hugging Face",
   "language": "python",
   "name": "python3"
  },
  "language_info": {
   "codemirror_mode": {
    "name": "ipython",
    "version": 3
   },
   "file_extension": ".py",
   "mimetype": "text/x-python",
   "name": "python",
   "nbconvert_exporter": "python",
   "pygments_lexer": "ipython3",
   "version": "3.11.4"
  }
 },
 "nbformat": 4,
 "nbformat_minor": 5
}
